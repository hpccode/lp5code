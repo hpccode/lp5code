{
  "nbformat": 4,
  "nbformat_minor": 0,
  "metadata": {
    "colab": {
      "provenance": [],
      "gpuType": "T4"
    },
    "kernelspec": {
      "name": "python3",
      "display_name": "Python 3"
    },
    "language_info": {
      "name": "python"
    },
    "accelerator": "GPU",
    "gpuClass": "standard"
  },
  "cells": [
    {
      "cell_type": "code",
      "execution_count": 3,
      "metadata": {
        "colab": {
          "base_uri": "https://localhost:8080/"
        },
        "id": "n6IVqassWvsO",
        "outputId": "44afd481-82cd-4e6c-e357-05bf71878a30"
      },
      "outputs": [
        {
          "output_type": "stream",
          "name": "stdout",
          "text": [
            "nvcc: NVIDIA (R) Cuda compiler driver\n",
            "Copyright (c) 2005-2022 NVIDIA Corporation\n",
            "Built on Wed_Sep_21_10:33:58_PDT_2022\n",
            "Cuda compilation tools, release 11.8, V11.8.89\n",
            "Build cuda_11.8.r11.8/compiler.31833905_0\n"
          ]
        }
      ],
      "source": [
        "!nvcc --version"
      ]
    },
    {
      "cell_type": "code",
      "source": [
        "code=\"\"\"\n",
        "#include <stdio.h>\n",
        "#include <stdlib.h>\n",
        "\n",
        "#define N 1000000\n",
        "\n",
        "__global__ void add(int *a, int *b, int *c) {\n",
        "    int tid = blockIdx.x * blockDim.x + threadIdx.x;\n",
        "    if (tid < N) {\n",
        "        c[tid] = a[tid] + b[tid];\n",
        "    }\n",
        "}\n",
        "\n",
        "int main() {\n",
        "    int *a, *b, *c;\n",
        "    int *d_a, *d_b, *d_c;\n",
        "    int size = N * sizeof(int);\n",
        "\n",
        "    // Allocate memory on host\n",
        "    a = (int*)malloc(size);\n",
        "    b = (int*)malloc(size);\n",
        "    c = (int*)malloc(size);\n",
        "\n",
        "    // Initialize arrays\n",
        "    for (int i = 0; i < N; i++) {\n",
        "        a[i] = i;\n",
        "        b[i] = i * 2;\n",
        "    }\n",
        "\n",
        "    // Allocate memory on device\n",
        "    cudaMalloc(&d_a, size);\n",
        "    cudaMalloc(&d_b, size);\n",
        "    cudaMalloc(&d_c, size);\n",
        "\n",
        "    // Copy data from host to device\n",
        "    cudaMemcpy(d_a, a, size, cudaMemcpyHostToDevice);\n",
        "    cudaMemcpy(d_b, b, size, cudaMemcpyHostToDevice);\n",
        "\n",
        "    // Launch kernel with 1 million threads\n",
        "    add<<<(N + 255) / 256, 256>>>(d_a, d_b, d_c);\n",
        "\n",
        "    // Copy result from device to host\n",
        "    cudaMemcpy(c, d_c, size, cudaMemcpyDeviceToHost);\n",
        "\n",
        "    // Print first and last elements of result\n",
        "    printf(\"c[0]=%d, c[%d] = %d\",c[0],N-1,c[N-1]);\n",
        "\n",
        "    // Free memory\n",
        "    free(a);\n",
        "    free(b);\n",
        "    free(c);\n",
        "    cudaFree(d_a);\n",
        "    cudaFree(d_b);\n",
        "    cudaFree(d_c);\n",
        "\n",
        "    return 0;\n",
        "}\n",
        "\"\"\""
      ],
      "metadata": {
        "id": "KcZeYwmBXcch"
      },
      "execution_count": 4,
      "outputs": []
    },
    {
      "cell_type": "code",
      "source": [
        "text_file = open('assign4.cu','w')\n",
        "text_file.write(code)\n",
        "text_file.close()"
      ],
      "metadata": {
        "id": "9eUY3fnRXtaX"
      },
      "execution_count": 8,
      "outputs": []
    },
    {
      "cell_type": "code",
      "source": [
        "!nvcc assign4.cu"
      ],
      "metadata": {
        "id": "8o5ivuDoYYIC"
      },
      "execution_count": 9,
      "outputs": []
    },
    {
      "cell_type": "code",
      "source": [
        "!./a.out"
      ],
      "metadata": {
        "colab": {
          "base_uri": "https://localhost:8080/"
        },
        "id": "NPQkfRK7YoyY",
        "outputId": "0ffcce3c-970d-4249-cc66-a09d02c888fb"
      },
      "execution_count": 10,
      "outputs": [
        {
          "output_type": "stream",
          "name": "stdout",
          "text": [
            "c[0]=0, c[999999] = 2999997"
          ]
        }
      ]
    },
    {
      "cell_type": "code",
      "source": [
        "!nvprof ./a.out"
      ],
      "metadata": {
        "colab": {
          "base_uri": "https://localhost:8080/"
        },
        "id": "qhskDfAdYy2A",
        "outputId": "a2f98361-cc8f-44a9-9b75-253af0703591"
      },
      "execution_count": 12,
      "outputs": [
        {
          "output_type": "stream",
          "name": "stdout",
          "text": [
            "==2629== NVPROF is profiling process 2629, command: ./a.out\n",
            "==2629== c[0]=0, c[999999] = 2999997Profiling application: ./a.out\n",
            "==2629== Profiling result:\n",
            "            Type  Time(%)      Time     Calls       Avg       Min       Max  Name\n",
            " GPU activities:   50.80%  1.5404ms         1  1.5404ms  1.5404ms  1.5404ms  [CUDA memcpy DtoH]\n",
            "                   47.65%  1.4449ms         2  722.45us  679.76us  765.13us  [CUDA memcpy HtoD]\n",
            "                    1.56%  47.263us         1  47.263us  47.263us  47.263us  add(int*, int*, int*)\n",
            "      API calls:   97.09%  207.09ms         3  69.031ms  95.429us  206.90ms  cudaMalloc\n",
            "                    2.14%  4.5651ms         3  1.5217ms  896.36us  2.7277ms  cudaMemcpy\n",
            "                    0.44%  931.97us         1  931.97us  931.97us  931.97us  cuDeviceGetPCIBusId\n",
            "                    0.25%  526.02us         3  175.34us  115.38us  206.47us  cudaFree\n",
            "                    0.05%  115.58us       101  1.1440us     126ns  47.206us  cuDeviceGetAttribute\n",
            "                    0.02%  41.200us         1  41.200us  41.200us  41.200us  cudaLaunchKernel\n",
            "                    0.01%  26.867us         1  26.867us  26.867us  26.867us  cuDeviceGetName\n",
            "                    0.00%  1.8710us         3     623ns     184ns  1.4140us  cuDeviceGetCount\n",
            "                    0.00%     868ns         2     434ns     239ns     629ns  cuDeviceGet\n",
            "                    0.00%     608ns         1     608ns     608ns     608ns  cuDeviceTotalMem\n",
            "                    0.00%     340ns         1     340ns     340ns     340ns  cuModuleGetLoadingMode\n",
            "                    0.00%     231ns         1     231ns     231ns     231ns  cuDeviceGetUuid\n"
          ]
        }
      ]
    }
  ]
}