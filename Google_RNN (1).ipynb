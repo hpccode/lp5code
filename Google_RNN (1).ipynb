{
  "cells": [
    {
      "cell_type": "code",
      "execution_count": 1,
      "id": "237cde57",
      "metadata": {
        "id": "237cde57"
      },
      "outputs": [],
      "source": [
        "import numpy as np\n",
        "import pandas as pd\n",
        "import matplotlib.pyplot as plt\n",
        "from sklearn.preprocessing import MinMaxScaler\n",
        "from keras.models import Sequential\n",
        "from keras.layers import Dense, LSTM"
      ]
    },
    {
      "cell_type": "code",
      "execution_count": 2,
      "id": "1728e183",
      "metadata": {
        "id": "1728e183"
      },
      "outputs": [],
      "source": [
        "# Load the dataset\n",
        "dataset = pd.read_csv('GOOGL.csv', index_col='Date', parse_dates=['Date'])"
      ]
    },
    {
      "cell_type": "code",
      "execution_count": 3,
      "id": "97173a81",
      "metadata": {
        "id": "97173a81"
      },
      "outputs": [],
      "source": [
        "# Split the dataset into training and testing sets\n",
        "train_set = dataset[:'2018'].iloc[:, 1:2].values\n",
        "test_set = dataset['2019':].iloc[:, 1:2].values\n"
      ]
    },
    {
      "cell_type": "code",
      "execution_count": 4,
      "id": "4db3df09",
      "metadata": {
        "id": "4db3df09"
      },
      "outputs": [],
      "source": [
        "# Normalize the dataset\n",
        "sc = MinMaxScaler(feature_range=(0, 1))\n",
        "train_set_scaled = sc.fit_transform(train_set)\n"
      ]
    },
    {
      "cell_type": "code",
      "execution_count": 5,
      "id": "5f7678a1",
      "metadata": {
        "id": "5f7678a1"
      },
      "outputs": [],
      "source": [
        "# Create a function to generate a sliding window of data\n",
        "def create_dataset(dataset, look_back=60):\n",
        "    X, Y = [], []\n",
        "    for i in range(look_back, len(dataset)):\n",
        "        X.append(dataset[i-look_back:i, 0])\n",
        "        Y.append(dataset[i, 0])\n",
        "    X, Y = np.array(X), np.array(Y)\n",
        "    X = np.reshape(X, (X.shape[0], X.shape[1], 1))\n",
        "    return X, Y\n"
      ]
    },
    {
      "cell_type": "code",
      "execution_count": 6,
      "id": "03afd848",
      "metadata": {
        "id": "03afd848"
      },
      "outputs": [],
      "source": [
        "# Generate the training and testing datasets\n",
        "look_back = 60\n",
        "X_train, Y_train = create_dataset(train_set_scaled, look_back)\n",
        "X_test, Y_test = create_dataset(test_set, look_back)\n"
      ]
    },
    {
      "cell_type": "code",
      "execution_count": 7,
      "id": "809e272b",
      "metadata": {
        "id": "809e272b"
      },
      "outputs": [],
      "source": [
        "# Build the RNN model\n",
        "model = Sequential()\n",
        "model.add(LSTM(units=50, return_sequences=True, input_shape=(X_train.shape[1], 1)))\n",
        "model.add(LSTM(units=50))\n",
        "model.add(Dense(units=1))\n",
        "model.compile(optimizer='adam', loss='mean_squared_error')\n"
      ]
    },
    {
      "cell_type": "code",
      "execution_count": 8,
      "id": "ce48c6c0",
      "metadata": {
        "colab": {
          "base_uri": "https://localhost:8080/"
        },
        "id": "ce48c6c0",
        "outputId": "d42ae6cc-4399-4b28-cf49-4dfffc8af100"
      },
      "outputs": [
        {
          "output_type": "stream",
          "name": "stdout",
          "text": [
            "Epoch 1/100\n",
            "112/112 [==============================] - 9s 51ms/step - loss: 0.0098\n",
            "Epoch 2/100\n",
            "112/112 [==============================] - 6s 55ms/step - loss: 2.4261e-04\n",
            "Epoch 3/100\n",
            "112/112 [==============================] - 6s 52ms/step - loss: 2.3845e-04\n",
            "Epoch 4/100\n",
            "112/112 [==============================] - 6s 56ms/step - loss: 2.4276e-04\n",
            "Epoch 5/100\n",
            "112/112 [==============================] - 6s 50ms/step - loss: 2.3474e-04\n",
            "Epoch 6/100\n",
            "112/112 [==============================] - 6s 55ms/step - loss: 2.4149e-04\n",
            "Epoch 7/100\n",
            "112/112 [==============================] - 6s 50ms/step - loss: 2.1891e-04\n",
            "Epoch 8/100\n",
            "112/112 [==============================] - 6s 54ms/step - loss: 2.3224e-04\n",
            "Epoch 9/100\n",
            "112/112 [==============================] - 6s 49ms/step - loss: 2.6716e-04\n",
            "Epoch 10/100\n",
            "112/112 [==============================] - 7s 59ms/step - loss: 2.0815e-04\n",
            "Epoch 11/100\n",
            "112/112 [==============================] - 6s 52ms/step - loss: 2.1275e-04\n",
            "Epoch 12/100\n",
            "112/112 [==============================] - 6s 54ms/step - loss: 1.8217e-04\n",
            "Epoch 13/100\n",
            "112/112 [==============================] - 5s 49ms/step - loss: 1.8687e-04\n",
            "Epoch 14/100\n",
            "112/112 [==============================] - 6s 54ms/step - loss: 1.9568e-04\n",
            "Epoch 15/100\n",
            "112/112 [==============================] - 6s 50ms/step - loss: 1.6772e-04\n",
            "Epoch 16/100\n",
            "112/112 [==============================] - 6s 56ms/step - loss: 1.6402e-04\n",
            "Epoch 17/100\n",
            "112/112 [==============================] - 5s 49ms/step - loss: 1.6352e-04\n",
            "Epoch 18/100\n",
            "112/112 [==============================] - 6s 54ms/step - loss: 1.5762e-04\n",
            "Epoch 19/100\n",
            "112/112 [==============================] - 5s 49ms/step - loss: 1.6311e-04\n",
            "Epoch 20/100\n",
            "112/112 [==============================] - 6s 54ms/step - loss: 1.3658e-04\n",
            "Epoch 21/100\n",
            "112/112 [==============================] - 5s 49ms/step - loss: 1.4900e-04\n",
            "Epoch 22/100\n",
            "112/112 [==============================] - 6s 56ms/step - loss: 1.3358e-04\n",
            "Epoch 23/100\n",
            "112/112 [==============================] - 6s 50ms/step - loss: 1.6696e-04\n",
            "Epoch 24/100\n",
            "112/112 [==============================] - 6s 54ms/step - loss: 1.2331e-04\n",
            "Epoch 25/100\n",
            "112/112 [==============================] - 5s 49ms/step - loss: 1.3515e-04\n",
            "Epoch 26/100\n",
            "112/112 [==============================] - 6s 54ms/step - loss: 1.2783e-04\n",
            "Epoch 27/100\n",
            "112/112 [==============================] - 6s 50ms/step - loss: 1.2912e-04\n",
            "Epoch 28/100\n",
            "112/112 [==============================] - 6s 52ms/step - loss: 1.1429e-04\n",
            "Epoch 29/100\n",
            "112/112 [==============================] - 5s 49ms/step - loss: 1.1870e-04\n",
            "Epoch 30/100\n",
            "112/112 [==============================] - 6s 51ms/step - loss: 1.7192e-04\n",
            "Epoch 31/100\n",
            "112/112 [==============================] - 6s 49ms/step - loss: 1.0143e-04\n",
            "Epoch 32/100\n",
            "112/112 [==============================] - 5s 49ms/step - loss: 9.5967e-05\n",
            "Epoch 33/100\n",
            "112/112 [==============================] - 6s 53ms/step - loss: 8.7110e-05\n",
            "Epoch 34/100\n",
            "112/112 [==============================] - 5s 48ms/step - loss: 8.9387e-05\n",
            "Epoch 35/100\n",
            "112/112 [==============================] - 6s 53ms/step - loss: 8.5374e-05\n",
            "Epoch 36/100\n",
            "112/112 [==============================] - 5s 48ms/step - loss: 7.5869e-05\n",
            "Epoch 37/100\n",
            "112/112 [==============================] - 6s 54ms/step - loss: 7.1474e-05\n",
            "Epoch 38/100\n",
            "112/112 [==============================] - 5s 49ms/step - loss: 7.6898e-05\n",
            "Epoch 39/100\n",
            "112/112 [==============================] - 6s 53ms/step - loss: 8.3207e-05\n",
            "Epoch 40/100\n",
            "112/112 [==============================] - 5s 49ms/step - loss: 7.3271e-05\n",
            "Epoch 41/100\n",
            "112/112 [==============================] - 6s 55ms/step - loss: 1.0536e-04\n",
            "Epoch 42/100\n",
            "112/112 [==============================] - 5s 48ms/step - loss: 6.5627e-05\n",
            "Epoch 43/100\n",
            "112/112 [==============================] - 6s 54ms/step - loss: 6.6303e-05\n",
            "Epoch 44/100\n",
            "112/112 [==============================] - 5s 49ms/step - loss: 5.8885e-05\n",
            "Epoch 45/100\n",
            "112/112 [==============================] - 6s 55ms/step - loss: 6.1207e-05\n",
            "Epoch 46/100\n",
            "112/112 [==============================] - 5s 49ms/step - loss: 6.4981e-05\n",
            "Epoch 47/100\n",
            "112/112 [==============================] - 6s 54ms/step - loss: 6.7932e-05\n",
            "Epoch 48/100\n",
            "112/112 [==============================] - 6s 49ms/step - loss: 6.5720e-05\n",
            "Epoch 49/100\n",
            "112/112 [==============================] - 6s 53ms/step - loss: 6.9106e-05\n",
            "Epoch 50/100\n",
            "112/112 [==============================] - 6s 51ms/step - loss: 5.4129e-05\n",
            "Epoch 51/100\n",
            "112/112 [==============================] - 6s 52ms/step - loss: 5.0857e-05\n",
            "Epoch 52/100\n",
            "112/112 [==============================] - 6s 51ms/step - loss: 6.5942e-05\n",
            "Epoch 53/100\n",
            "112/112 [==============================] - 5s 49ms/step - loss: 8.1818e-05\n",
            "Epoch 54/100\n",
            "112/112 [==============================] - 6s 52ms/step - loss: 5.1188e-05\n",
            "Epoch 55/100\n",
            "112/112 [==============================] - 5s 48ms/step - loss: 5.1471e-05\n",
            "Epoch 56/100\n",
            "112/112 [==============================] - 6s 55ms/step - loss: 7.3037e-05\n",
            "Epoch 57/100\n",
            "112/112 [==============================] - 6s 50ms/step - loss: 4.5169e-05\n",
            "Epoch 58/100\n",
            "112/112 [==============================] - 6s 55ms/step - loss: 5.4271e-05\n",
            "Epoch 59/100\n",
            "112/112 [==============================] - 6s 49ms/step - loss: 5.0257e-05\n",
            "Epoch 60/100\n",
            "112/112 [==============================] - 6s 55ms/step - loss: 4.9917e-05\n",
            "Epoch 61/100\n",
            "112/112 [==============================] - 6s 50ms/step - loss: 5.1166e-05\n",
            "Epoch 62/100\n",
            "112/112 [==============================] - 6s 55ms/step - loss: 5.4083e-05\n",
            "Epoch 63/100\n",
            "112/112 [==============================] - 6s 50ms/step - loss: 4.6667e-05\n",
            "Epoch 64/100\n",
            "112/112 [==============================] - 6s 55ms/step - loss: 5.0670e-05\n",
            "Epoch 65/100\n",
            "112/112 [==============================] - 5s 49ms/step - loss: 5.1190e-05\n",
            "Epoch 66/100\n",
            "112/112 [==============================] - 7s 58ms/step - loss: 4.9468e-05\n",
            "Epoch 67/100\n",
            "112/112 [==============================] - 6s 50ms/step - loss: 4.7169e-05\n",
            "Epoch 68/100\n",
            "112/112 [==============================] - 6s 56ms/step - loss: 5.5704e-05\n",
            "Epoch 69/100\n",
            "112/112 [==============================] - 5s 49ms/step - loss: 5.8637e-05\n",
            "Epoch 70/100\n",
            "112/112 [==============================] - 6s 55ms/step - loss: 5.5650e-05\n",
            "Epoch 71/100\n",
            "112/112 [==============================] - 5s 49ms/step - loss: 5.9860e-05\n",
            "Epoch 72/100\n",
            "112/112 [==============================] - 6s 54ms/step - loss: 4.4091e-05\n",
            "Epoch 73/100\n",
            "112/112 [==============================] - 5s 48ms/step - loss: 4.5031e-05\n",
            "Epoch 74/100\n",
            "112/112 [==============================] - 6s 54ms/step - loss: 4.5983e-05\n",
            "Epoch 75/100\n",
            "112/112 [==============================] - 5s 48ms/step - loss: 5.3878e-05\n",
            "Epoch 76/100\n",
            "112/112 [==============================] - 6s 51ms/step - loss: 4.5466e-05\n",
            "Epoch 77/100\n",
            "112/112 [==============================] - 6s 52ms/step - loss: 3.9754e-05\n",
            "Epoch 78/100\n",
            "112/112 [==============================] - 6s 50ms/step - loss: 4.3112e-05\n",
            "Epoch 79/100\n",
            "112/112 [==============================] - 6s 55ms/step - loss: 5.7040e-05\n",
            "Epoch 80/100\n",
            "112/112 [==============================] - 6s 50ms/step - loss: 4.0387e-05\n",
            "Epoch 81/100\n",
            "112/112 [==============================] - 6s 53ms/step - loss: 5.3577e-05\n",
            "Epoch 82/100\n",
            "112/112 [==============================] - 5s 48ms/step - loss: 6.2513e-05\n",
            "Epoch 83/100\n",
            "112/112 [==============================] - 6s 52ms/step - loss: 4.2074e-05\n",
            "Epoch 84/100\n",
            "112/112 [==============================] - 5s 49ms/step - loss: 4.5997e-05\n",
            "Epoch 85/100\n",
            "112/112 [==============================] - 6s 54ms/step - loss: 4.6583e-05\n",
            "Epoch 86/100\n",
            "112/112 [==============================] - 5s 49ms/step - loss: 4.4666e-05\n",
            "Epoch 87/100\n",
            "112/112 [==============================] - 6s 55ms/step - loss: 3.9808e-05\n",
            "Epoch 88/100\n",
            "112/112 [==============================] - 5s 49ms/step - loss: 6.5854e-05\n",
            "Epoch 89/100\n",
            "112/112 [==============================] - 6s 56ms/step - loss: 4.1828e-05\n",
            "Epoch 90/100\n",
            "112/112 [==============================] - 6s 50ms/step - loss: 4.7277e-05\n",
            "Epoch 91/100\n",
            "112/112 [==============================] - 6s 55ms/step - loss: 4.2927e-05\n",
            "Epoch 92/100\n",
            "112/112 [==============================] - 6s 50ms/step - loss: 4.5799e-05\n",
            "Epoch 93/100\n",
            "112/112 [==============================] - 6s 56ms/step - loss: 4.5295e-05\n",
            "Epoch 94/100\n",
            "112/112 [==============================] - 6s 51ms/step - loss: 4.7388e-05\n",
            "Epoch 95/100\n",
            "112/112 [==============================] - 6s 56ms/step - loss: 5.2988e-05\n",
            "Epoch 96/100\n",
            "112/112 [==============================] - 6s 50ms/step - loss: 4.6401e-05\n",
            "Epoch 97/100\n",
            "112/112 [==============================] - 6s 55ms/step - loss: 4.6118e-05\n",
            "Epoch 98/100\n",
            "112/112 [==============================] - 6s 50ms/step - loss: 4.1263e-05\n",
            "Epoch 99/100\n",
            "112/112 [==============================] - 6s 57ms/step - loss: 5.1857e-05\n",
            "Epoch 100/100\n",
            "112/112 [==============================] - 6s 50ms/step - loss: 4.2178e-05\n"
          ]
        },
        {
          "output_type": "execute_result",
          "data": {
            "text/plain": [
              "<keras.callbacks.History at 0x7f1a88672f20>"
            ]
          },
          "metadata": {},
          "execution_count": 8
        }
      ],
      "source": [
        "# Train the RNN model\n",
        "model.fit(X_train, Y_train, epochs=100, batch_size=32)\n"
      ]
    },
    {
      "cell_type": "code",
      "execution_count": 9,
      "id": "26590b26",
      "metadata": {
        "colab": {
          "base_uri": "https://localhost:8080/"
        },
        "id": "26590b26",
        "outputId": "7582a0cb-5bcc-4617-bc53-13a4f7e5b3bc"
      },
      "outputs": [
        {
          "output_type": "stream",
          "name": "stdout",
          "text": [
            "24/24 [==============================] - 1s 14ms/step - loss: 3841452.2500\n"
          ]
        }
      ],
      "source": [
        "# Evaluate the model on the testing set\n",
        "mse = model.evaluate(X_test, Y_test)\n",
        "rmse = np.sqrt(mse)\n"
      ]
    },
    {
      "cell_type": "code",
      "execution_count": 10,
      "id": "5e519470",
      "metadata": {
        "colab": {
          "base_uri": "https://localhost:8080/"
        },
        "id": "5e519470",
        "outputId": "d0ba40f3-66d0-49e2-84d2-fd05726f0aef"
      },
      "outputs": [
        {
          "output_type": "stream",
          "name": "stdout",
          "text": [
            "1/1 [==============================] - 1s 676ms/step\n",
            "[[1046.8098]]\n"
          ]
        }
      ],
      "source": [
        "# Make predictions on future Google stock prices\n",
        "last_60_days = train_set[-60:]\n",
        "last_60_days_scaled = sc.transform(last_60_days)\n",
        "X_pred = np.array([last_60_days_scaled])\n",
        "X_pred = np.reshape(X_pred, (X_pred.shape[0], X_pred.shape[1], 1))\n",
        "pred_price = model.predict(X_pred)\n",
        "pred_price = sc.inverse_transform(pred_price)\n",
        "print(pred_price)\n"
      ]
    },
    {
      "cell_type": "code",
      "execution_count": 10,
      "id": "cd6c4820",
      "metadata": {
        "id": "cd6c4820"
      },
      "outputs": [],
      "source": []
    }
  ],
  "metadata": {
    "kernelspec": {
      "display_name": "Python 3 (ipykernel)",
      "language": "python",
      "name": "python3"
    },
    "language_info": {
      "codemirror_mode": {
        "name": "ipython",
        "version": 3
      },
      "file_extension": ".py",
      "mimetype": "text/x-python",
      "name": "python",
      "nbconvert_exporter": "python",
      "pygments_lexer": "ipython3",
      "version": "3.9.16"
    },
    "colab": {
      "provenance": []
    }
  },
  "nbformat": 4,
  "nbformat_minor": 5
}