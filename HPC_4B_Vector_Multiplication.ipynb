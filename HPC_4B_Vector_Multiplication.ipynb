{
  "nbformat": 4,
  "nbformat_minor": 0,
  "metadata": {
    "colab": {
      "provenance": [],
      "gpuType": "T4"
    },
    "kernelspec": {
      "name": "python3",
      "display_name": "Python 3"
    },
    "language_info": {
      "name": "python"
    },
    "accelerator": "GPU",
    "gpuClass": "standard"
  },
  "cells": [
    {
      "cell_type": "code",
      "execution_count": 2,
      "metadata": {
        "colab": {
          "base_uri": "https://localhost:8080/"
        },
        "id": "kpApGP-DZ5Fd",
        "outputId": "60223ee3-d271-4e3c-866a-3765568b4cd7"
      },
      "outputs": [
        {
          "output_type": "stream",
          "name": "stdout",
          "text": [
            "nvcc: NVIDIA (R) Cuda compiler driver\n",
            "Copyright (c) 2005-2022 NVIDIA Corporation\n",
            "Built on Wed_Sep_21_10:33:58_PDT_2022\n",
            "Cuda compilation tools, release 11.8, V11.8.89\n",
            "Build cuda_11.8.r11.8/compiler.31833905_0\n"
          ]
        }
      ],
      "source": [
        "!nvcc --version"
      ]
    },
    {
      "cell_type": "code",
      "source": [
        "code=\"\"\"\n",
        "#include <stdio.h>\n",
        "#include <stdlib.h>\n",
        "\n",
        "#define N 1024\n",
        "#define BLOCK_SIZE 16\n",
        "\n",
        "__global__ void matrixMul(int *a, int *b, int *c, int width) {\n",
        "    int row = blockIdx.y * blockDim.y + threadIdx.y;\n",
        "    int col = blockIdx.x * blockDim.x + threadIdx.x;\n",
        "    int sum = 0;\n",
        "    for (int i = 0; i < width; i++) {\n",
        "        sum += a[row * width + i] * b[i * width + col];\n",
        "    }\n",
        "    c[row * width + col] = sum;\n",
        "}\n",
        "\n",
        "int main() {\n",
        "    int *a, *b, *c;\n",
        "    int *d_a, *d_b, *d_c;\n",
        "    int size = N * N * sizeof(int);\n",
        "\n",
        "    // Allocate memory on host\n",
        "    a = (int*)malloc(size);\n",
        "    b = (int*)malloc(size);\n",
        "    c = (int*)malloc(size);\n",
        "\n",
        "    // Initialize matrices\n",
        "    for (int i = 0; i < N; i++) {\n",
        "        for (int j = 0; j < N; j++) {\n",
        "            a[i * N + j] = i + j;\n",
        "            b[i * N + j] = i - j;\n",
        "        }\n",
        "    }\n",
        "\n",
        "    // Allocate memory on device\n",
        "    cudaMalloc(&d_a, size);\n",
        "    cudaMalloc(&d_b, size);\n",
        "    cudaMalloc(&d_c, size);\n",
        "\n",
        "    // Copy data from host to device\n",
        "    cudaMemcpy(d_a, a, size, cudaMemcpyHostToDevice);\n",
        "    cudaMemcpy(d_b, b, size, cudaMemcpyHostToDevice);\n",
        "\n",
        "    // Launch kernel with 2D grid and 2D block\n",
        "    dim3 dimBlock(BLOCK_SIZE, BLOCK_SIZE);\n",
        "    dim3 dimGrid((N + dimBlock.x - 1) / dimBlock.x, (N + dimBlock.y - 1) / dimBlock.y);\n",
        "    matrixMul<<<dimGrid, dimBlock>>>(d_a, d_b, d_c, N);\n",
        "\n",
        "    // Copy result from device to host\n",
        "    cudaMemcpy(c, d_c, size, cudaMemcpyDeviceToHost);\n",
        "\n",
        "    // Print first and last elements of result\n",
        "    printf(\"c[0][0] = %d, c[%d][%d] = %d\", c[0], N-1, N-1, c[(N-1) * N + (N-1)]);\n",
        "\n",
        "    // Free memory\n",
        "    free(a);\n",
        "    free(b);\n",
        "    free(c);\n",
        "    cudaFree(d_a);\n",
        "    cudaFree(d_b);\n",
        "    cudaFree(d_c);\n",
        "\n",
        "    return 0;\n",
        "}\n",
        "\"\"\""
      ],
      "metadata": {
        "id": "CvOfrhmxZ_LW"
      },
      "execution_count": 3,
      "outputs": []
    },
    {
      "cell_type": "code",
      "source": [
        "text_file = open('assign4.cu','w')\n",
        "text_file.write(code)\n",
        "text_file.close()"
      ],
      "metadata": {
        "id": "sfTdUOKpaDdx"
      },
      "execution_count": 4,
      "outputs": []
    },
    {
      "cell_type": "code",
      "source": [
        "!nvcc assign4.cu"
      ],
      "metadata": {
        "id": "WoX1YJ8_aInf"
      },
      "execution_count": 5,
      "outputs": []
    },
    {
      "cell_type": "code",
      "source": [
        "!./a.out"
      ],
      "metadata": {
        "colab": {
          "base_uri": "https://localhost:8080/"
        },
        "id": "psL2-RuHaLGG",
        "outputId": "e2200c85-e74f-4b95-b812-b0a21ab2aab8"
      },
      "execution_count": 6,
      "outputs": [
        {
          "output_type": "stream",
          "name": "stdout",
          "text": [
            "c[0][0] = 357389824, c[1023][1023] = -714255872"
          ]
        }
      ]
    },
    {
      "cell_type": "code",
      "source": [
        "!nvprof ./a.out"
      ],
      "metadata": {
        "colab": {
          "base_uri": "https://localhost:8080/"
        },
        "id": "Y9a2y1nKaN0m",
        "outputId": "64a58890-df26-49c2-f930-d9c6e1f8338c"
      },
      "execution_count": 7,
      "outputs": [
        {
          "output_type": "stream",
          "name": "stdout",
          "text": [
            "==868== NVPROF is profiling process 868, command: ./a.out\n",
            "==868== Profiling application: ./a.out\n",
            "c[0][0] = 357389824, c[1023][1023] = -714255872==868== Profiling result:\n",
            "            Type  Time(%)      Time     Calls       Avg       Min       Max  Name\n",
            " GPU activities:   70.71%  9.1149ms         1  9.1149ms  9.1149ms  9.1149ms  matrixMul(int*, int*, int*, int)\n",
            "                   15.43%  1.9893ms         1  1.9893ms  1.9893ms  1.9893ms  [CUDA memcpy DtoH]\n",
            "                   13.86%  1.7866ms         2  893.29us  885.88us  900.70us  [CUDA memcpy HtoD]\n",
            "      API calls:   94.10%  284.67ms         3  94.891ms  107.52us  284.42ms  cudaMalloc\n",
            "                    4.98%  15.058ms         3  5.0192ms  1.0673ms  12.855ms  cudaMemcpy\n",
            "                    0.60%  1.8137ms         1  1.8137ms  1.8137ms  1.8137ms  cuDeviceGetPCIBusId\n",
            "                    0.24%  714.80us         3  238.27us  218.57us  258.02us  cudaFree\n",
            "                    0.06%  182.81us       101  1.8090us     209ns  75.275us  cuDeviceGetAttribute\n",
            "                    0.01%  35.057us         1  35.057us  35.057us  35.057us  cuDeviceGetName\n",
            "                    0.01%  29.341us         1  29.341us  29.341us  29.341us  cudaLaunchKernel\n",
            "                    0.00%  2.6580us         3     886ns     380ns  1.7250us  cuDeviceGetCount\n",
            "                    0.00%  1.6340us         2     817ns     357ns  1.2770us  cuDeviceGet\n",
            "                    0.00%  1.2320us         1  1.2320us  1.2320us  1.2320us  cuModuleGetLoadingMode\n",
            "                    0.00%  1.0890us         1  1.0890us  1.0890us  1.0890us  cuDeviceTotalMem\n",
            "                    0.00%     406ns         1     406ns     406ns     406ns  cuDeviceGetUuid\n"
          ]
        }
      ]
    }
  ]
}